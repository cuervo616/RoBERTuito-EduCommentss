{
  "cells": [
    {
      "cell_type": "markdown",
      "metadata": {},
      "source": [
        "# Exploración de los datos de entrenamiento\n",
        "\n",
        "Autores:\n",
        "- Pablo Quito\n",
        "- Juan Valdiviezo"
      ]
    },
    {
      "cell_type": "code",
      "execution_count": null,
      "metadata": {
        "colab": {
          "base_uri": "https://localhost:8080/"
        },
        "id": "SwsDcG4kzoj9",
        "outputId": "e821bd2c-342d-4b41-b460-d9f3beea8e7f"
      },
      "outputs": [],
      "source": [
        "import numpy as np\n",
        "import pandas as pd\n",
        "import matplotlib.pyplot as plt\n",
        "import seaborn as sns\n",
        "from google.colab import drive\n",
        "\n",
        "import nltk\n",
        "from nltk.stem.porter import PorterStemmer\n",
        "nltk.download('stopwords')\n",
        "from nltk.corpus import stopwords\n",
        "STOPWORDS = set(stopwords.words('spanish'))"
      ]
    },
    {
      "cell_type": "code",
      "execution_count": null,
      "metadata": {
        "colab": {
          "base_uri": "https://localhost:8080/",
          "height": 241
        },
        "id": "IvtDyaBCz7Z_",
        "outputId": "6ce968a4-b8ff-4d45-fb0f-bd1d017b7dc4"
      },
      "outputs": [],
      "source": [
        "#Inicialización\n",
        "ROUTE = '/content/drive/My Drive/Intelektubies/Datos/Entrenamiento V5'\n",
        "FILE_NAME = 'df_entrenamiento_v5.xlsx'#Ultima versión de de entrenamiento\n",
        "DATASET_PATH = ROUTE+'/'+FILE_NAME\n",
        "drive.mount('/content/drive')\n",
        "df = pd.read_excel(DATASET_PATH)\n",
        "print(df.shape)\n",
        "df.head()"
      ]
    },
    {
      "cell_type": "code",
      "execution_count": null,
      "metadata": {
        "colab": {
          "base_uri": "https://localhost:8080/"
        },
        "id": "tc4hMZTT0f2J",
        "outputId": "a595b551-16ac-4c2e-9f1d-3bb7a78d6222"
      },
      "outputs": [],
      "source": [
        "#Verificar nombres de columnas y nulos\n",
        "print(f\"Columnas: {df.columns.values} \")\n",
        "print(df.isnull().sum())\n",
        "df.dropna(inplace=True) #Eliminar elementos nulos"
      ]
    },
    {
      "cell_type": "code",
      "execution_count": null,
      "metadata": {
        "colab": {
          "base_uri": "https://localhost:8080/",
          "height": 147
        },
        "id": "MSnpPvQ71B9-",
        "outputId": "bc85522d-12b8-45e8-c144-e9b1bf3d9396"
      },
      "outputs": [],
      "source": [
        "df.dtypes"
      ]
    },
    {
      "cell_type": "code",
      "execution_count": null,
      "metadata": {
        "colab": {
          "base_uri": "https://localhost:8080/"
        },
        "id": "nHN1l-mZ2u3S",
        "outputId": "c97bdc21-164a-4439-e9e2-a1b6de646289"
      },
      "outputs": [],
      "source": [
        "print(f\"Rating Sentimiento: \\n{df['sentimiento'].value_counts()}\")"
      ]
    },
    {
      "cell_type": "code",
      "execution_count": null,
      "metadata": {
        "colab": {
          "base_uri": "https://localhost:8080/",
          "height": 487
        },
        "id": "x-4zndAV23tl",
        "outputId": "964a52e0-18a8-4f5f-c95b-7705ca48e2a1"
      },
      "outputs": [],
      "source": [
        "counts = df['sentimiento'].value_counts()\n",
        "bars = counts.plot.bar(color='#002856')\n",
        "\n",
        "plt.title('Distribución de Comentarios por Tipo de Sentimiento', fontsize=14, fontweight='bold', pad=20)\n",
        "plt.xlabel('Tipo de Sentimiento', fontsize=11,labelpad=20)\n",
        "\n",
        "# Eliminar eje Y completamente\n",
        "plt.gca().axes.get_yaxis().set_visible(False)\n",
        "\n",
        "# Etiquetas sobre cada barra\n",
        "for bar in bars.patches:\n",
        "    plt.text(bar.get_x() + bar.get_width()/2.0, bar.get_height() + 0.1, int(bar.get_height()),\n",
        "             ha='center', va='bottom', fontsize=12)\n",
        "\n",
        "# Ajustes de etiquetas del eje X\n",
        "plt.xticks(rotation=0, fontsize=11)\n",
        "\n",
        "# Eliminar el marco\n",
        "for spine in plt.gca().spines.values():\n",
        "    spine.set_visible(False)\n",
        "\n",
        "plt.tight_layout()\n",
        "plt.show()\n"
      ]
    },
    {
      "cell_type": "code",
      "execution_count": null,
      "metadata": {
        "colab": {
          "base_uri": "https://localhost:8080/"
        },
        "id": "kSjPHWA53oSh",
        "outputId": "ee02ca4a-3368-477c-a8b6-0a8d166770c4"
      },
      "outputs": [],
      "source": [
        "print(f\"Porcentaje - Distribución: \\n{round(df['sentimiento'].value_counts()/df.shape[0]*100,2)}\")\n"
      ]
    },
    {
      "cell_type": "code",
      "execution_count": null,
      "metadata": {
        "colab": {
          "base_uri": "https://localhost:8080/",
          "height": 619
        },
        "id": "AiqCY62X9c2E",
        "outputId": "fc2138b6-9792-4f54-9994-12b9232e6d0e"
      },
      "outputs": [],
      "source": [
        "import matplotlib.pyplot as plt\n",
        "from io import BytesIO\n",
        "\n",
        "fig = plt.figure(figsize=(7, 7))\n",
        "\n",
        "# Paleta armónica basada en #002856\n",
        "colors = ['#003656', '#005377', '#3399cc', '#66c2ff']\n",
        "\n",
        "wp = {'linewidth': 1, \"edgecolor\": 'white'}\n",
        "\n",
        "tags = df['sentimiento'].value_counts() / df.shape[0]\n",
        "explode = (0.05,) * len(tags)  # Uniforme según número de clases\n",
        "\n",
        "# Crear el gráfico manualmente para controlar etiquetas\n",
        "ax = fig.add_subplot(111)\n",
        "wedges, texts, autotexts = ax.pie(\n",
        "    tags,\n",
        "    labels=tags.index,\n",
        "    autopct='%1.1f%%',\n",
        "    shadow=False,\n",
        "    colors=colors[:len(tags)],\n",
        "    startangle=90,\n",
        "    wedgeprops=wp,\n",
        "    explode=explode,\n",
        "    labeldistance=1.05\n",
        ")\n",
        "\n",
        "# Modificar estilo de etiquetas (categorías)\n",
        "for text in texts:\n",
        "    text.set_fontsize(12)         # Tamaño de fuente de las categorías\n",
        "    text.set_fontweight('bold')   # Negrita\n",
        "\n",
        "# Modificar estilo de los porcentajes\n",
        "for autotext in autotexts:\n",
        "    autotext.set_fontsize(11)     # Tamaño de porcentaje\n",
        "    autotext.set_color('white')   # Opcional: blanco sobre colores oscuros\n",
        "    autotext.set_fontweight('bold')\n",
        "\n",
        "# Título y eje\n",
        "ax.set_title('Distribución Proporcional de Comentarios por Sentimiento', fontsize=14, fontweight='bold', pad=20)\n",
        "ax.set_ylabel('')\n",
        "\n",
        "# Guardar imagen\n",
        "graph = BytesIO()\n",
        "fig.savefig(graph, format=\"png\", dpi=300)\n",
        "graph.seek(0)\n"
      ]
    },
    {
      "cell_type": "code",
      "execution_count": null,
      "metadata": {
        "colab": {
          "base_uri": "https://localhost:8080/",
          "height": 489
        },
        "id": "N5uRpvLz-LgK",
        "outputId": "1789d8a9-2f2a-459f-88e0-031037a20b6e"
      },
      "outputs": [],
      "source": [
        "#Distribución de los comentarios\n",
        "sns.histplot(df['comentario'].apply(len),color='blue').set(title='Distribución de caracteres de comentarios ')"
      ]
    },
    {
      "cell_type": "code",
      "execution_count": null,
      "metadata": {
        "colab": {
          "base_uri": "https://localhost:8080/",
          "height": 666
        },
        "id": "c2r_JWNd_wEG",
        "outputId": "7d48ee0b-30a4-4446-e812-8fc29d3eb5be"
      },
      "outputs": [],
      "source": [
        "data = df.copy()\n",
        "data['length'] = df['comentario'].apply(len)\n",
        "print(df)\n",
        "data"
      ]
    },
    {
      "cell_type": "code",
      "execution_count": null,
      "metadata": {
        "colab": {
          "base_uri": "https://localhost:8080/",
          "height": 472
        },
        "id": "ij1lUUlH-t5w",
        "outputId": "8719a76a-4e79-4bb3-e7ca-5fb617b39104"
      },
      "outputs": [],
      "source": [
        "# Corregir el filtro: filtramos por la columna 'sentimiento'\n",
        "sns.histplot(data[data['sentimiento'] == 'Positiva']['length'], color='green')\\\n",
        "   .set(title='Distribución de longitud de comentarios Positivos')\n",
        "\n",
        "# Mostrar el gráfico\n",
        "plt.show()\n"
      ]
    },
    {
      "cell_type": "code",
      "execution_count": null,
      "metadata": {
        "colab": {
          "base_uri": "https://localhost:8080/",
          "height": 472
        },
        "id": "1KLdEaKwBj_C",
        "outputId": "dddf71db-dda2-4cfb-fc1a-97af8298a452"
      },
      "outputs": [],
      "source": [
        "# Corregir el filtro: filtramos por la columna 'sentimiento'\n",
        "sns.histplot(data[data['sentimiento'] == 'Negativa']['length'], color='red')\\\n",
        "   .set(title='Distribución de longitud de comentarios Negativos')\n",
        "\n",
        "plt.show()\n"
      ]
    },
    {
      "cell_type": "code",
      "execution_count": null,
      "metadata": {
        "colab": {
          "base_uri": "https://localhost:8080/",
          "height": 472
        },
        "id": "UFMS7yAYBr4d",
        "outputId": "a60b0377-5960-4ce9-e9bd-258c6e453513"
      },
      "outputs": [],
      "source": [
        "sns.histplot(data[data['sentimiento'] == 'Alerta']['length'], color='black')\\\n",
        "   .set(title='Distribución de longitud de comentarios Alerta')\n",
        "\n",
        "plt.show()"
      ]
    },
    {
      "cell_type": "code",
      "execution_count": null,
      "metadata": {
        "colab": {
          "base_uri": "https://localhost:8080/",
          "height": 472
        },
        "id": "DqyveCydBxnx",
        "outputId": "54c04b6f-3a31-4146-fa8b-6c7c7be488ee"
      },
      "outputs": [],
      "source": [
        "sns.histplot(data[data['sentimiento'] == 'Neutral']['length'], color='orange')\\\n",
        "   .set(title='Distribución de longitud de comentarios Neutral')\n",
        "\n",
        "plt.show()"
      ]
    },
    {
      "cell_type": "code",
      "execution_count": null,
      "metadata": {
        "colab": {
          "base_uri": "https://localhost:8080/",
          "height": 472
        },
        "id": "59Nk71W-6h6R",
        "outputId": "18947ace-deb2-4afd-8eaf-e4e6b3aa12c1"
      },
      "outputs": [],
      "source": [
        "data['sentimiento_num'] = data['sentimiento'].map({'Positiva': 2, 'Negativa': 0, 'Neutral': 1,'Alerta': 3}).astype(int)\n",
        "data.groupby('length')['sentimiento_num'].mean().plot.hist(color = 'blue', bins = 20)\n",
        "plt.title(\" Review length wise mean sentiment\")\n",
        "plt.xlabel('sentimiento')\n",
        "plt.ylabel('length')\n",
        "plt.show()"
      ]
    },
    {
      "cell_type": "code",
      "execution_count": null,
      "metadata": {
        "id": "ICAso9KCCMzV"
      },
      "outputs": [],
      "source": [
        "from sklearn.feature_extraction.text import CountVectorizer\n",
        "from nltk.corpus import stopwords\n",
        "\n",
        "# Obtener las stopwords en español y convertirlas en una lista\n",
        "spanish_stopwords = list(stopwords.words('spanish'))\n"
      ]
    },
    {
      "cell_type": "code",
      "execution_count": null,
      "metadata": {
        "id": "bt0DISbnLmmB"
      },
      "outputs": [],
      "source": [
        "# Añadir las palabras personalizadas a las stopwords\n",
        "custom_stopwords = [\"debe\",\"mejorar\", \"destaca\",\"estudiante\",\"estudiantes\",\"docente\",\n",
        "                    \"clase\",\"clases\",\"materia\",\"materias\",\"tema\",\"forma\",\"manera\",\"temas\",\n",
        "                    \"ser\",\"debería\",\"solo\",\"hace\"]\n",
        "spanish_stopwords.extend(custom_stopwords)  # Usar extend para añadir las palabras\n",
        "\n",
        "# Crear el CountVectorizer con las stopwords en español\n",
        "cv = CountVectorizer(stop_words=spanish_stopwords)\n",
        "\n",
        "# Ajustar y transformar los datos\n",
        "words = cv.fit_transform(data.comentario)"
      ]
    },
    {
      "cell_type": "code",
      "execution_count": null,
      "metadata": {
        "colab": {
          "base_uri": "https://localhost:8080/",
          "height": 443
        },
        "id": "qNcoTp1kDHXY",
        "outputId": "7dd519e2-46dd-4492-8122-faff1ca2c845"
      },
      "outputs": [],
      "source": [
        "from wordcloud import WordCloud\n",
        "# Combine all reviews\n",
        "reviews = \" \".join([review for review in data['comentario']])\n",
        "\n",
        "# Initialize wordcloud object\n",
        "wc = WordCloud(background_color='white', max_words=50, stopwords=spanish_stopwords)\n",
        "\n",
        "# Generate and plot wordcloud\n",
        "plt.figure(figsize=(10,10))\n",
        "plt.imshow(wc.generate(reviews))\n",
        "plt.title('Wordcloud for all reviews', fontsize=10)\n",
        "plt.axis('off')\n",
        "plt.show()"
      ]
    },
    {
      "cell_type": "code",
      "execution_count": null,
      "metadata": {
        "id": "oh0xj0ZBDSby"
      },
      "outputs": [],
      "source": [
        "neg_comentarios = \" \".join([review for review in data[data['sentimiento'] == 'Negativa']['comentario']])\n",
        "neg_comentarios = neg_comentarios.lower()\n",
        "pos_comentarios = \" \".join([review for review in data[data['sentimiento'] == 'Positiva']['comentario']])\n",
        "pos_comentarios = pos_comentarios.lower()\n",
        "neu_comentarios = \" \".join([review for review in data[data['sentimiento'] == 'Neutral']['comentario']])\n",
        "neu_comentarios = neu_comentarios.lower()\n",
        "alert_comentarios = \" \".join([review for review in data[data['sentimiento'] == 'Alerta']['comentario']])\n",
        "alert_comentarios = alert_comentarios.lower()\n"
      ]
    },
    {
      "cell_type": "code",
      "execution_count": null,
      "metadata": {
        "colab": {
          "base_uri": "https://localhost:8080/",
          "height": 443
        },
        "id": "RBwjxLXjEn4F",
        "outputId": "1a817cd7-485a-4257-aab8-8fe41b625bad"
      },
      "outputs": [],
      "source": [
        "wc = WordCloud(background_color='white', max_words=50, stopwords=spanish_stopwords)\n",
        "\n",
        "# Generate and plot wordcloud\n",
        "plt.figure(figsize=(10,10))\n",
        "plt.imshow(wc.generate(neg_comentarios))\n",
        "plt.title('Wordcloud for negative reviews', fontsize=10)\n",
        "plt.axis('off')\n",
        "plt.show()"
      ]
    },
    {
      "cell_type": "code",
      "execution_count": null,
      "metadata": {
        "colab": {
          "base_uri": "https://localhost:8080/",
          "height": 443
        },
        "id": "Rjoie3TMFR5y",
        "outputId": "86a30e6a-5094-431a-aab3-e6aaa2114196"
      },
      "outputs": [],
      "source": [
        "wc = WordCloud(background_color='white', max_words=50, stopwords=spanish_stopwords)\n",
        "\n",
        "# Generate and plot wordcloud\n",
        "plt.figure(figsize=(10,10))\n",
        "plt.imshow(wc.generate(pos_comentarios))\n",
        "plt.title('Wordcloud for positive reviews', fontsize=10)\n",
        "plt.axis('off')\n",
        "plt.show()"
      ]
    },
    {
      "cell_type": "code",
      "execution_count": null,
      "metadata": {
        "colab": {
          "base_uri": "https://localhost:8080/",
          "height": 443
        },
        "id": "cnKPj8lWFaAU",
        "outputId": "e16151a0-6769-401e-a10b-9cf71397bc77"
      },
      "outputs": [],
      "source": [
        "wc = WordCloud(background_color='white', max_words=50, stopwords=spanish_stopwords)\n",
        "\n",
        "# Generate and plot wordcloud\n",
        "plt.figure(figsize=(10,10))\n",
        "plt.imshow(wc.generate(neu_comentarios))\n",
        "plt.title('Wordcloud for neutral reviews', fontsize=10)\n",
        "plt.axis('off')\n",
        "plt.show()"
      ]
    },
    {
      "cell_type": "code",
      "execution_count": null,
      "metadata": {
        "colab": {
          "base_uri": "https://localhost:8080/",
          "height": 443
        },
        "id": "P0c7wl-rFekd",
        "outputId": "478e91e8-b962-4080-d694-1a04d8dfb6bf"
      },
      "outputs": [],
      "source": [
        "wc = WordCloud(background_color='white', max_words=50, stopwords=spanish_stopwords)\n",
        "\n",
        "# Generate and plot wordcloud\n",
        "plt.figure(figsize=(10,10))\n",
        "plt.imshow(wc.generate(alert_comentarios))\n",
        "plt.title('Wordcloud for alert reviews', fontsize=10)\n",
        "plt.axis('off')\n",
        "plt.show()"
      ]
    }
  ],
  "metadata": {
    "colab": {
      "provenance": []
    },
    "kernelspec": {
      "display_name": "Python 3",
      "name": "python3"
    },
    "language_info": {
      "name": "python"
    }
  },
  "nbformat": 4,
  "nbformat_minor": 0
}
